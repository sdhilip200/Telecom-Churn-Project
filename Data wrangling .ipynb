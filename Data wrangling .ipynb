{
 "cells": [
  {
   "cell_type": "markdown",
   "metadata": {},
   "source": [
    "''' Data Cleaning using Python '''\n",
    "\n",
    "Use cases: Relationship between materialism and consumer's net worth\n",
    "\n",
    "Datasets\n",
    "\n",
    "•\tMaterialism: 2005,2007,2008, 2009, 2010, 2011, 2013 \n",
    "•\tDNB (Dutch National Bank): 2005, 2006, 2007, 2008, 2009, 2010, 2011, 2012, 2013\n",
    "\n",
    "Last Updated Date - Apr 22, 2019\n",
    "\n",
    "Author: Dhilip Subramanian"
   ]
  },
  {
   "cell_type": "code",
   "execution_count": 560,
   "metadata": {},
   "outputs": [],
   "source": [
    "import pandas as pd  # Data management library\n",
    "import numpy as np # For numerical functions"
   ]
  },
  {
   "cell_type": "code",
   "execution_count": 561,
   "metadata": {},
   "outputs": [],
   "source": [
    "# Reading Dutch national bank data from the csv files for the year 2005 to 2013 and assigning seperate dataframes \n",
    "# Assigning 'NAN' for all the missing values\n",
    "\n",
    "df2005 = pd.read_csv(\"C:/dev/projects/Python/Dutchproject/DNB 2005.csv\", na_values = [\" \", \"-\", \"-999\",\"None\"])\n",
    "df2006 = pd.read_csv(\"C:/dev/projects/Python/Dutchproject/DNB 2006.csv\", na_values = [\" \", \"-\", \"-999\",\"None\"])\n",
    "df2007 = pd.read_csv(\"C:/dev/projects/Python/Dutchproject/DNB 2007.csv\", na_values = [\" \", \"-\", \"-999\",\"None\"])\n",
    "df2008 = pd.read_csv(\"C:/dev/projects/Python/Dutchproject/DNB 2008.csv\", na_values = [\" \", \"-\", \"-999\",\"None\"])\n",
    "df2009 = pd.read_csv(\"C:/dev/projects/Python/Dutchproject/DNB 2009.csv\", na_values = [\" \", \"-\", \"-999\",\"None\"])\n",
    "df2010 = pd.read_csv(\"C:/dev/projects/Python/Dutchproject/DNB 2010.csv\", na_values = [\" \", \"-\", \"-999\",\"None\"])\n",
    "df2011 = pd.read_csv(\"C:/dev/projects/Python/Dutchproject/DNB 2011.csv\", na_values = [\" \", \"-\", \"-999\",\"None\"])\n",
    "df2012 = pd.read_csv(\"C:/dev/projects/Python/Dutchproject/DNB 2012.csv\", na_values = [\" \", \"-\", \"-999\",\"None\"])\n",
    "df2013 = pd.read_csv(\"C:/dev/projects/Python/Dutchproject/DNB 2013.csv\", na_values = [\" \", \"-\", \"-999\",\"None\"])"
   ]
  },
  {
   "cell_type": "code",
   "execution_count": 562,
   "metadata": {},
   "outputs": [
    {
     "data": {
      "text/plain": [
       "(4877, 391)"
      ]
     },
     "execution_count": 562,
     "metadata": {},
     "output_type": "execute_result"
    }
   ],
   "source": [
    "# Checking the shape of the 2015 csv file\n",
    "\n",
    "df2005.shape"
   ]
  },
  {
   "cell_type": "code",
   "execution_count": 649,
   "metadata": {},
   "outputs": [],
   "source": [
    "# Retaining the important variables as per the description and remove all other variables for the year 2005. \n",
    "# Taking the important variables into new data frame\n",
    "\n",
    "dnb2005 = df2005[['nohhold','nomem','gebjaar','geslacht','positie','oplmet','belbezig','aantalhh','aantalki','kostwin','partner','b1b',\n",
    "          'b2b','b3b','b4b','b6b','b7b','b8b','b11b','b12b','b13b','b14b','b15b','b16b','b17b','b18b','s1b','s2b','s3b','s4b',\n",
    "          's5b','s6b','s7b','s8b','x1b','b26oga','b26ogb','b26hya','b26hyb']].copy()\n"
   ]
  },
  {
   "cell_type": "code",
   "execution_count": 650,
   "metadata": {},
   "outputs": [
    {
     "data": {
      "text/plain": [
       "79998"
      ]
     },
     "execution_count": 650,
     "metadata": {},
     "output_type": "execute_result"
    }
   ],
   "source": [
    "dnb2005.isnull().sum().sum()"
   ]
  },
  {
   "cell_type": "code",
   "execution_count": 568,
   "metadata": {},
   "outputs": [],
   "source": [
    "# Creating a function called saving to sum \"b1b-b18b\"  and assign the same into new column called ‘savings’. \n",
    "\n",
    "import glob\n",
    "\n",
    "def saving(x):\n",
    "    x['savings'] = x.iloc[:,11:26].sum(axis = 1).round(2)\n",
    "    return x\n",
    "\n",
    "dnb2005 = dnb2005.pipe(saving)"
   ]
  },
  {
   "cell_type": "code",
   "execution_count": 569,
   "metadata": {},
   "outputs": [],
   "source": [
    "# Creating a function called debt to sum \"s1b-x1b\"  and assign the same into new column called ‘debts’. \n",
    "\n",
    "def debt(x):\n",
    "    x['debts'] = x.iloc[:,26:35].sum(axis = 1).round(2)\n",
    "    return x\n",
    "\n",
    "dnb2005 = dnb2005.pipe(debt)"
   ]
  },
  {
   "cell_type": "code",
   "execution_count": 570,
   "metadata": {},
   "outputs": [],
   "source": [
    "# Creating networth which equals savings - debts\n",
    "\n",
    "dnb2005['networth'] = dnb2005['savings'] - dnb2005['debts']"
   ]
  },
  {
   "cell_type": "code",
   "execution_count": 572,
   "metadata": {},
   "outputs": [],
   "source": [
    "# Craeating a new fucntion and variable called flag_neg. This will check if the saving amount is positive or negative.\n",
    "# If positive it will assign 0 or else 1.\n",
    "\n",
    "def flag_neg(x):\n",
    "    if x >= 0:\n",
    "        return 0\n",
    "    else:\n",
    "        return 1\n",
    "    \n",
    "dnb2005['flag_neg'] = dnb2005['savings'].apply(flag_neg)"
   ]
  },
  {
   "cell_type": "code",
   "execution_count": 573,
   "metadata": {},
   "outputs": [],
   "source": [
    "# Craeating a new fucntion and variable called flag_mil. This will check if the saving amount is having more than 1 million.\n",
    "# If over million it will assign 1 or else 0.\n",
    "\n",
    "def flag_mil(x):\n",
    "    if x > 1000000:\n",
    "        return 1\n",
    "    else:\n",
    "        return 0\n",
    "    \n",
    "dnb2005['flag_mil'] = dnb2005['savings'].apply(flag_mil)"
   ]
  },
  {
   "cell_type": "code",
   "execution_count": 574,
   "metadata": {},
   "outputs": [],
   "source": [
    "# Correcting the decimal for columns 11 to 39\n",
    "\n",
    "def round_dec(x):\n",
    "    x = x.apply(lambda x: round (x,2))\n",
    "    return(x)\n",
    "\n",
    "dnb2005.iloc[:, 11:39] = dnb2005.iloc[:, 11:39].apply(round_dec)"
   ]
  },
  {
   "cell_type": "code",
   "execution_count": 575,
   "metadata": {},
   "outputs": [],
   "source": [
    "# Retaining the important variables as per the description and remove all other variables for the year 2006\n",
    "# Taking the important variables into new data frame\n",
    "\n",
    "dnb2006 = df2006[['nohhold','nomem','gebjaar','geslacht','positie','oplmet','belbezig','aantalhh','aantalki','kostwin','partner','b1b',\n",
    "          'b2b','b3b','b4b','b6b','b7b','b8b','b11b','b12b','b13b','b14b','b15b','b16b','b17b','b18b','s1b','s2b','s3b','s4b',\n",
    "          's5b','s6b','s7b','s8b','x1b','b26oga','b26ogb','b26hya','b26hyb']].copy()\n"
   ]
  },
  {
   "cell_type": "code",
   "execution_count": 578,
   "metadata": {},
   "outputs": [],
   "source": [
    "# To sum \"b1b-b18b\"  and assign the same into new column called ‘savings’ for the year 2006. Applying function saving\n",
    "\n",
    "dnb2006 = dnb2006.pipe(saving)"
   ]
  },
  {
   "cell_type": "code",
   "execution_count": 579,
   "metadata": {},
   "outputs": [],
   "source": [
    "# To sum \"s1b-x1b\"  and assign the same into new column called ‘debts’ for the year 2006. Applying function debt\n",
    "\n",
    "dnb2006 = dnb2006.pipe(debt)"
   ]
  },
  {
   "cell_type": "code",
   "execution_count": 580,
   "metadata": {},
   "outputs": [],
   "source": [
    "# Creating networth which equals savings - debts for the year 2006\n",
    "\n",
    "dnb2006['networth'] = dnb2006['savings'] - dnb2006['debts']"
   ]
  },
  {
   "cell_type": "code",
   "execution_count": 581,
   "metadata": {},
   "outputs": [],
   "source": [
    "# Applying function flag_mil and creating new variable called flag_mil. This will check if the saving amount is having more than 1 million.\n",
    "# If over million it will assign 1 or else 0. For the year 2006\n",
    "\n",
    "dnb2006['flag_mil'] = dnb2006['savings'].apply(flag_mil)"
   ]
  },
  {
   "cell_type": "code",
   "execution_count": 582,
   "metadata": {},
   "outputs": [],
   "source": [
    "# Craeating a new fucntion and variable called flag_neg. This will check if the saving amount is positive or negative.\n",
    "# If positive it will assign 0 or else 1.For the year 2006\n",
    "\n",
    "dnb2006['flag_neg'] = dnb2006['savings'].apply(flag_neg)"
   ]
  },
  {
   "cell_type": "code",
   "execution_count": 583,
   "metadata": {},
   "outputs": [],
   "source": [
    "# Correcting the decimal for columns 11 to 39. Applying function round_dec\n",
    "\n",
    "dnb2006.iloc[:, 11:39] = dnb2006.iloc[:, 11:39].apply(round_dec)"
   ]
  },
  {
   "cell_type": "code",
   "execution_count": 584,
   "metadata": {},
   "outputs": [],
   "source": [
    "# Retaining the important variables as per the description and remove all other variables for the year 2007\n",
    "# Taking the important variables into new data frame\n",
    "\n",
    "dnb2007 = df2007[['nohhold','nomem','gebjaar','geslacht','positie','oplmet','aantalhh','aantalki','kostwin','partner','b1b',\n",
    "          'b2b','b3b','b4b','b6b','b7b','b8b','b11b','b12b','b13b','b14b','b15b','b16b','b17b','b18b','s1b','s2b','s3b','s4b',\n",
    "          's5b','s6b','s7b','s8b','x1b','b26oga','b26ogb','b26hya','b26hyb']].copy()\n"
   ]
  },
  {
   "cell_type": "code",
   "execution_count": 585,
   "metadata": {},
   "outputs": [],
   "source": [
    "# To sum \"b1b-b18b\"  and assign the same into new column called ‘savings’ for the year 2007. \n",
    "\n",
    "dnb2007['savings'] = dnb2007.iloc[:,10:25].sum(axis = 1).round(2)"
   ]
  },
  {
   "cell_type": "code",
   "execution_count": 586,
   "metadata": {},
   "outputs": [],
   "source": [
    "# To sum \"s1b-x1b\"  and assign the same into new column called ‘debts’ for the year 2007. \n",
    "\n",
    "dnb2007['debts'] = dnb2007.iloc[:,25:34].sum(axis = 1).round(2)"
   ]
  },
  {
   "cell_type": "code",
   "execution_count": 587,
   "metadata": {},
   "outputs": [],
   "source": [
    "# Creating networth which equals savings - debts for the year 2006\n",
    "\n",
    "dnb2007['networth'] = dnb2007['savings'] - dnb2007['debts']"
   ]
  },
  {
   "cell_type": "code",
   "execution_count": 588,
   "metadata": {},
   "outputs": [],
   "source": [
    "# Craeating a new fucntion and variable called flag_mill. This will check if the saving amount is having more than 1 million.\n",
    "# If over million it will assign 1 or else 0. For the year 2007. Applying function flag_mil\n",
    "\n",
    "dnb2007['flag_mil'] = dnb2007['savings'].apply(flag_mil)"
   ]
  },
  {
   "cell_type": "code",
   "execution_count": 589,
   "metadata": {},
   "outputs": [],
   "source": [
    "# Craeating a new fucntion and variable called flag_neg. This will check if the saving amount is positive or negative.\n",
    "# If positive it will assign 0 or else 1.For the year 2007. Applying function flag_neg\n",
    "\n",
    "dnb2007['flag_neg'] = dnb2007['savings'].apply(flag_neg)"
   ]
  },
  {
   "cell_type": "code",
   "execution_count": 590,
   "metadata": {},
   "outputs": [],
   "source": [
    "# Correcting the decimal for columns 10 to 39 using round_Dec function\n",
    "\n",
    "dnb2007.iloc[:, 10:39] = dnb2007.iloc[:, 10:39].apply(round_dec)"
   ]
  },
  {
   "cell_type": "code",
   "execution_count": 591,
   "metadata": {},
   "outputs": [],
   "source": [
    "# Retaining the important variables as per the description and remove all other variables for the year 2007\n",
    "# Taking the important variables into new data frame\n",
    "\n",
    "dnb2008 = df2008[['nohhold','nomem','gebjaar','geslacht','positie','oplmet','aantalhh','aantalki','kostwin','partner','b1b',\n",
    "          'b2b','b3b','b4b','b6b','b7b','b8b','b12b','b13b','b14b','b15b','b16b','b17b','b18b','s1b','s2b','s3b','s4b',\n",
    "          's5b','s6b','s7b','s8b','x1b','b26oga','b26ogb','b26hya','b26hyb']].copy()\n"
   ]
  },
  {
   "cell_type": "code",
   "execution_count": 592,
   "metadata": {},
   "outputs": [],
   "source": [
    "# To sum \"b1b-b18b\"  and assign the same into new column called ‘savings’ for the year 2008. \n",
    "\n",
    "dnb2008['savings'] = dnb2008.iloc[:,10:24].sum(axis = 1).round(2)"
   ]
  },
  {
   "cell_type": "code",
   "execution_count": 593,
   "metadata": {},
   "outputs": [],
   "source": [
    "# To sum \"s1b-x1b\"  and assign the same into new column called ‘debts’ for the year 2008. \n",
    "\n",
    "dnb2008['debts'] = dnb2008.iloc[:,24:33].sum(axis = 1).round(2)"
   ]
  },
  {
   "cell_type": "code",
   "execution_count": 594,
   "metadata": {},
   "outputs": [],
   "source": [
    "# Creating networth which equals savings - debts for the year 2008\n",
    "\n",
    "dnb2008['networth'] = dnb2008['savings'] - dnb2008['debts']"
   ]
  },
  {
   "cell_type": "code",
   "execution_count": 595,
   "metadata": {},
   "outputs": [],
   "source": [
    "# Craeating a new fucntion and variable called flag_mill. This will check if the saving amount is having more than 1 million.\n",
    "# If over million it will assign 1 or else 0. For the year 2008. Applying function flag_mil\n",
    "\n",
    "dnb2008['flag_mil'] = dnb2008['savings'].apply(flag_mil)"
   ]
  },
  {
   "cell_type": "code",
   "execution_count": 596,
   "metadata": {},
   "outputs": [],
   "source": [
    "# Craeating a new fucntion and variable called flag_neg. This will check if the saving amount is positive or negative.\n",
    "# If positive it will assign 0 or else 1.For the year 2008. Applying function flag_neg\n",
    "\n",
    "dnb2008['flag_neg'] = dnb2008['savings'].apply(flag_neg)"
   ]
  },
  {
   "cell_type": "code",
   "execution_count": 597,
   "metadata": {},
   "outputs": [],
   "source": [
    "# Correcting the decimal for columns 10 to 37 using round_Dec function\n",
    "\n",
    "dnb2008.iloc[:, 10:37] = dnb2008.iloc[:, 10:37].apply(round_dec)"
   ]
  },
  {
   "cell_type": "code",
   "execution_count": 598,
   "metadata": {},
   "outputs": [],
   "source": [
    "# Retaining the important variables as per the description and remove all other variables for the year 2009\n",
    "# Taking the important variables into new data frame\n",
    "\n",
    "dnb2009 = df2009[['nohhold','nomem','gebjaar','geslacht','positie','oplmet','aantalhh','aantalki','kostwin','partner','b1b',\n",
    "          'b2b','b3b','b4b','b6b','b7b','b8b','b12b','b13b','b14b','b15b','b16b','b17b','b18b','s1b','s2b','s3b','s4b',\n",
    "          's5b','s6b','s7b','s8b','x1b','b26oga','b26ogb','b26hya','b26hyb']].copy()\n"
   ]
  },
  {
   "cell_type": "code",
   "execution_count": 599,
   "metadata": {},
   "outputs": [],
   "source": [
    "# To sum \"b1b-b18b\"  and assign the same into new column called ‘savings’ for the year 2009. \n",
    "\n",
    "dnb2009['savings'] = dnb2009.iloc[:,10:24].sum(axis = 1).round(2)"
   ]
  },
  {
   "cell_type": "code",
   "execution_count": 600,
   "metadata": {},
   "outputs": [],
   "source": [
    "# To sum \"s1b-x1b\"  and assign the same into new column called ‘debts’ for the year 2009. \n",
    "\n",
    "dnb2009['debts'] = dnb2009.iloc[:,24:33].sum(axis = 1).round(2)"
   ]
  },
  {
   "cell_type": "code",
   "execution_count": 601,
   "metadata": {},
   "outputs": [],
   "source": [
    "# Creating networth which equals savings - debts for the year 2009\n",
    "\n",
    "dnb2009['networth'] = dnb2009['savings'] - dnb2009['debts']"
   ]
  },
  {
   "cell_type": "code",
   "execution_count": 602,
   "metadata": {},
   "outputs": [],
   "source": [
    "# Craeating a new fucntion and variable called flag_mill. This will check if the saving amount is having more than 1 million.\n",
    "# If over million it will assign 1 or else 0. For the year 2009. Applying function flag_mil\n",
    "\n",
    "dnb2009['flag_mil'] = dnb2009['savings'].apply(flag_mil)"
   ]
  },
  {
   "cell_type": "code",
   "execution_count": 603,
   "metadata": {},
   "outputs": [],
   "source": [
    "# Craeating a new fucntion and variable called flag_neg. This will check if the saving amount is positive or negative.\n",
    "# If positive it will assign 0 or else 1.For the year 2009. Applying function flag_neg\n",
    "\n",
    "dnb2009['flag_neg'] = dnb2009['savings'].apply(flag_neg)"
   ]
  },
  {
   "cell_type": "code",
   "execution_count": 604,
   "metadata": {},
   "outputs": [],
   "source": [
    "# Correcting the decimal for columns 10 to 37 using round_Dec function\n",
    "\n",
    "dnb2009.iloc[:, 10:37] = dnb2009.iloc[:, 10:37].apply(round_dec)"
   ]
  },
  {
   "cell_type": "code",
   "execution_count": 605,
   "metadata": {},
   "outputs": [],
   "source": [
    "# Retaining the important variables as per the description and remove all other variables for the year 2010\n",
    "# Taking the important variables into new data frame\n",
    "\n",
    "dnb2010 = df2010[['nohhold','nomem','gebjaar','geslacht','positie','oplmet','aantalhh','aantalki','kostwin','partner','b1b',\n",
    "          'b2b','b3b','b4b','b6b','b7b','b8b','b12b','b13b','b14b','b15b','b16b','b17b','b18b','s1b','s2b','s3b','s4b',\n",
    "          's5b','s6b','s7b','s8b','x1b','b26oga','b26ogb','b26hya','b26hyb']].copy()\n"
   ]
  },
  {
   "cell_type": "code",
   "execution_count": 606,
   "metadata": {},
   "outputs": [],
   "source": [
    "# To sum \"b1b-b18b\"  and assign the same into new column called ‘savings’ for the year 2010. \n",
    "\n",
    "dnb2010['savings'] = dnb2010.iloc[:,10:24].sum(axis = 1).round(2)"
   ]
  },
  {
   "cell_type": "code",
   "execution_count": 607,
   "metadata": {},
   "outputs": [],
   "source": [
    "# To sum \"s1b-x1b\"  and assign the same into new column called ‘debts’ for the year 2010. \n",
    "\n",
    "dnb2010['debts'] = dnb2010.iloc[:,24:33].sum(axis = 1).round(2)"
   ]
  },
  {
   "cell_type": "code",
   "execution_count": 608,
   "metadata": {},
   "outputs": [],
   "source": [
    "# Creating networth which equals savings - debts for the year 2010\n",
    "\n",
    "dnb2010['networth'] = dnb2010['savings'] - dnb2010['debts']"
   ]
  },
  {
   "cell_type": "code",
   "execution_count": 609,
   "metadata": {},
   "outputs": [],
   "source": [
    "# Craeating a new fucntion and variable called flag_mill. This will check if the saving amount is having more than 1 million.\n",
    "# If over million it will assign 1 or else 0. For the year 2010. Applying function flag_mil\n",
    "\n",
    "dnb2010['flag_mil'] = dnb2010['savings'].apply(flag_mil)"
   ]
  },
  {
   "cell_type": "code",
   "execution_count": 610,
   "metadata": {},
   "outputs": [],
   "source": [
    "# Craeating a new fucntion and variable called flag_neg. This will check if the saving amount is positive or negative.\n",
    "# If positive it will assign 0 or else 1.For the year 2010. Applying function flag_neg\n",
    "\n",
    "dnb2010['flag_neg'] = dnb2010['savings'].apply(flag_neg)"
   ]
  },
  {
   "cell_type": "code",
   "execution_count": 611,
   "metadata": {},
   "outputs": [],
   "source": [
    "# Correcting the decimal for columns 10 to 37 using round_Dec function\n",
    "\n",
    "dnb2010.iloc[:, 10:37] = dnb2010.iloc[:, 10:37].apply(round_dec)"
   ]
  },
  {
   "cell_type": "code",
   "execution_count": 612,
   "metadata": {},
   "outputs": [],
   "source": [
    "# Retaining the important variables as per the description and remove all other variables for the year 2011\n",
    "# Taking the important variables into new data frame\n",
    "\n",
    "dnb2011 = df2011[['nohhold','nomem','gebjaar','geslacht','positie','oplmet','aantalhh','aantalki','kostwin','partner','b1b',\n",
    "          'b2b','b3b','b4b','b6b','b7b','b8b','b11b','b12b','b13b','b14b','b15b','b16b','b17b','b18b','s1b','s2b','s3b','s4b',\n",
    "          's5b','s6b','s7b','s8b','x1b','b26oga','b26ogb','b26hya','b26hyb']].copy()\n"
   ]
  },
  {
   "cell_type": "code",
   "execution_count": 613,
   "metadata": {},
   "outputs": [],
   "source": [
    "# To sum \"b1b-b18b\"  and assign the same into new column called ‘savings’ for the year 2011. \n",
    "\n",
    "dnb2011['savings'] = dnb2011.iloc[:,10:25].sum(axis = 1).round(2)"
   ]
  },
  {
   "cell_type": "code",
   "execution_count": 614,
   "metadata": {},
   "outputs": [],
   "source": [
    "# To sum \"s1b-x1b\"  and assign the same into new column called ‘debts’ for the year 2011. \n",
    "\n",
    "dnb2011['debts'] = dnb2011.iloc[:,25:34].sum(axis = 1).round(2)"
   ]
  },
  {
   "cell_type": "code",
   "execution_count": 615,
   "metadata": {},
   "outputs": [],
   "source": [
    "# Creating networth which equals savings - debts for the year 2011\n",
    "\n",
    "dnb2011['networth'] = dnb2011['savings'] - dnb2011['debts']"
   ]
  },
  {
   "cell_type": "code",
   "execution_count": 616,
   "metadata": {},
   "outputs": [],
   "source": [
    "# Craeating a new fucntion and variable called flag_mill. This will check if the saving amount is having more than 1 million.\n",
    "# If over million it will assign 1 or else 0. For the year 2011. Applying function flag_mil\n",
    "\n",
    "dnb2011['flag_mil'] = dnb2011['savings'].apply(flag_mil)"
   ]
  },
  {
   "cell_type": "code",
   "execution_count": 617,
   "metadata": {},
   "outputs": [],
   "source": [
    "# Craeating a new fucntion and variable called flag_neg. This will check if the saving amount is positive or negative.\n",
    "# If positive it will assign 0 or else 1.For the year 2011. Applying function flag_neg\n",
    "\n",
    "dnb2011['flag_neg'] = dnb2011['savings'].apply(flag_neg)"
   ]
  },
  {
   "cell_type": "code",
   "execution_count": 618,
   "metadata": {},
   "outputs": [],
   "source": [
    "# Correcting the decimal for columns 10 to 38\n",
    "\n",
    "dnb2011.iloc[:, 10:38] = dnb2011.iloc[:, 10:38].apply(round_dec)"
   ]
  },
  {
   "cell_type": "code",
   "execution_count": 619,
   "metadata": {},
   "outputs": [],
   "source": [
    "# Retaining the important variables as per the description and remove all other variables for the year 2012\n",
    "# Taking the important variables into new data frame.\n",
    "\n",
    "dnb2012 = df2012[['nohhold','nomem','gebjaar','geslacht','positie','oplmet','aantalhh','aantalki','kostwin','partner','b1b',\n",
    "          'b2b','b3b','b4b','b6b','b7b','b8b','b11b','b12b','b13b','b14b','b15b','b16b','b17b','b18b','s1b','s2b','s3b','s4b',\n",
    "          's5b','s6b','s7b','s8b','x1b','b26oga','b26ogb','b26hya','b26hyb']].copy()\n"
   ]
  },
  {
   "cell_type": "code",
   "execution_count": 620,
   "metadata": {},
   "outputs": [],
   "source": [
    "# To sum \"b1b-b18b\"  and assign the same into new column called ‘savings’ for the year 2012. \n",
    "\n",
    "dnb2012['savings'] = dnb2012.iloc[:,10:25].sum(axis = 1).round(2)"
   ]
  },
  {
   "cell_type": "code",
   "execution_count": 621,
   "metadata": {},
   "outputs": [],
   "source": [
    "# To sum \"s1b-x1b\"  and assign the same into new column called ‘debts’ for the year 2012. \n",
    "\n",
    "dnb2012['debts'] = dnb2012.iloc[:,25:34].sum(axis = 1).round(2)"
   ]
  },
  {
   "cell_type": "code",
   "execution_count": 622,
   "metadata": {},
   "outputs": [],
   "source": [
    "# Creating networth which equals savings - debts for the year 2012\n",
    "\n",
    "dnb2012['networth'] = dnb2012['savings'] - dnb2012['debts']"
   ]
  },
  {
   "cell_type": "code",
   "execution_count": 623,
   "metadata": {},
   "outputs": [],
   "source": [
    "# Craeating a new fucntion and variable called flag_mill. This will check if the saving amount is having more than 1 million.\n",
    "# If over million it will assign 1 or else 0. For the year 2012. Applying function flag_mil\n",
    "\n",
    "dnb2012['flag_mil'] = dnb2012['savings'].apply(flag_mil)"
   ]
  },
  {
   "cell_type": "code",
   "execution_count": 624,
   "metadata": {},
   "outputs": [],
   "source": [
    "# Craeating a new fucntion and variable called flag_neg. This will check if the saving amount is positive or negative.\n",
    "# If positive it will assign 0 or else 1.For the year 2012. Applying function flag_neg\n",
    "\n",
    "dnb2012['flag_neg'] = dnb2012['savings'].apply(flag_neg)"
   ]
  },
  {
   "cell_type": "code",
   "execution_count": 625,
   "metadata": {},
   "outputs": [],
   "source": [
    "# Correcting the decimal for columns 10 to 38\n",
    "\n",
    "dnb2012.iloc[:, 10:38] = dnb2012.iloc[:, 10:38].apply(round_dec)"
   ]
  },
  {
   "cell_type": "code",
   "execution_count": 626,
   "metadata": {},
   "outputs": [],
   "source": [
    "# Retaining the important variables as per the description and remove all other variables for the year 2013\n",
    "# Taking the important variables into new data frame\n",
    "\n",
    "dnb2013 = df2013[['nohhold','nomem','gebjaar','geslacht','positie','oplmet','aantalhh','aantalki','kostwin','partner','b1b',\n",
    "          'b2b','b3b','b4b','b6b','b7b','b8b','b11b','b12b','b13b','b14b','b15b','b16b','b17b','b18b','s1b','s2b','s3b','s4b',\n",
    "          's5b','s6b','s7b','s8b','x1b','b26oga','b26ogb','b26hya','b26hyb']].copy()\n"
   ]
  },
  {
   "cell_type": "code",
   "execution_count": 627,
   "metadata": {},
   "outputs": [],
   "source": [
    "# To sum \"b1b-b18b\"  and assign the same into new column called ‘savings’ for the year 2013. \n",
    "\n",
    "dnb2013['savings'] = dnb2013.iloc[:,10:25].sum(axis = 1).round(2)"
   ]
  },
  {
   "cell_type": "code",
   "execution_count": 628,
   "metadata": {},
   "outputs": [],
   "source": [
    "# To sum \"s1b-x1b\"  and assign the same into new column called ‘debts’ for the year 2013. \n",
    "\n",
    "dnb2013['debts'] = dnb2013.iloc[:,25:34].sum(axis = 1).round(2)"
   ]
  },
  {
   "cell_type": "code",
   "execution_count": 629,
   "metadata": {},
   "outputs": [],
   "source": [
    "# Creating networth which equals savings - debts for the year 2013\n",
    "\n",
    "dnb2013['networth'] = dnb2013['savings'] - dnb2013['debts']"
   ]
  },
  {
   "cell_type": "code",
   "execution_count": 630,
   "metadata": {},
   "outputs": [],
   "source": [
    "# Craeating a new fucntion and variable called flag_mill. This will check if the saving amount is having more than 1 million.\n",
    "# If over million it will assign 1 or else 0. For the year 2013. Applying function flag_mil\n",
    "\n",
    "dnb2013['flag_mil'] = dnb2013['savings'].apply(flag_mil)"
   ]
  },
  {
   "cell_type": "code",
   "execution_count": 631,
   "metadata": {},
   "outputs": [],
   "source": [
    "# Craeating a new fucntion and variable called flag_neg. This will check if the saving amount is positive or negative.\n",
    "# If positive it will assign 0 or else 1.For the year 2013. Applying function flag_neg\n",
    "\n",
    "dnb2013['flag_neg'] = dnb2013['savings'].apply(flag_neg)"
   ]
  },
  {
   "cell_type": "code",
   "execution_count": 632,
   "metadata": {},
   "outputs": [],
   "source": [
    "# Correcting the decimal for columns 10 to 38\n",
    "\n",
    "dnb2013.iloc[:, 10:38] = dnb2013.iloc[:, 10:38].apply(round_dec)"
   ]
  },
  {
   "cell_type": "code",
   "execution_count": 648,
   "metadata": {},
   "outputs": [],
   "source": [
    "# Writing into new csv file\n",
    "\n",
    "dnb2005.to_csv(\"DNB2005_cleaned.csv\")\n",
    "dnb2006.to_csv(\"DNB2006_cleaned.csv\")\n",
    "dnb2007.to_csv(\"DNB2007_cleaned.csv\")\n",
    "dnb2008.to_csv(\"DNB2008_cleaned.csv\")\n",
    "dnb2009.to_csv(\"DNB2009_cleaned.csv\")\n",
    "dnb2010.to_csv(\"DNB2010_cleaned.csv\")\n",
    "dnb2011.to_csv(\"DNB2011_cleaned.csv\")\n",
    "dnb2012.to_csv(\"DNB2012_cleaned.csv\")\n",
    "dnb2013.to_csv(\"DNB2013_cleaned.csv\")"
   ]
  },
  {
   "cell_type": "code",
   "execution_count": 652,
   "metadata": {},
   "outputs": [],
   "source": [
    "# Reading Materialism data from the csv files for the year 2005 to 2013 and assigning seperate dataframes \n",
    "# Assigning 'NAN' for all the missing values\n",
    "\n",
    "mat2005 = pd.read_csv(\"C:/dev/projects/Python/Dutchproject/Materialism 2005.csv\", na_values = [\" \", \"-\", \"-999\",\"None\"])\n",
    "mat2007 = pd.read_csv(\"C:/dev/projects/Python/Dutchproject/Materialism 2007.csv\", na_values = [\" \", \"-\", \"-999\",\"None\"])\n",
    "mat2008 = pd.read_csv(\"C:/dev/projects/Python/Dutchproject/Materialism 2008.csv\", na_values = [\" \", \"-\", \"-999\",\"None\"])\n",
    "mat2009 = pd.read_csv(\"C:/dev/projects/Python/Dutchproject/Materialism 2009.csv\", na_values = [\" \", \"-\", \"-999\",\"None\"])\n",
    "mat2010 = pd.read_csv(\"C:/dev/projects/Python/Dutchproject/Materialism 2010.csv\", na_values = [\" \", \"-\", \"-999\",\"None\"])\n",
    "mat2011 = pd.read_csv(\"C:/dev/projects/Python/Dutchproject/Materialism 2011.csv\", na_values = [\" \", \"-\", \"-999\",\"None\"])\n",
    "mat2012 = pd.read_csv(\"C:/dev/projects/Python/Dutchproject/Materialism 2012.csv\", na_values = [\" \", \"-\", \"-999\",\"None\"])\n",
    "mat2013 = pd.read_csv(\"C:/dev/projects/Python/Dutchproject/Materialism 2013.csv\", na_values = [\" \", \"-\", \"-999\",\"None\"])\n"
   ]
  },
  {
   "cell_type": "code",
   "execution_count": 658,
   "metadata": {},
   "outputs": [],
   "source": [
    "# Writing into new csv file\n",
    "\n",
    "mat2005.to_csv(\"mat2005_cleaned.csv\")\n",
    "mat2007.to_csv(\"mat2007_cleaned.csv\")\n",
    "mat2008.to_csv(\"mat2008_cleaned.csv\")\n",
    "mat2009.to_csv(\"mat2009_cleaned.csv\")\n",
    "mat2010.to_csv(\"mat2010_cleaned.csv\")\n",
    "mat2011.to_csv(\"mat2011_cleaned.csv\")\n",
    "mat2012.to_csv(\"mat2012_cleaned.csv\")\n",
    "mat2013.to_csv(\"mat2013_cleaned.csv\")\n"
   ]
  }
 ],
 "metadata": {
  "kernelspec": {
   "display_name": "Python 3",
   "language": "python",
   "name": "python3"
  },
  "language_info": {
   "codemirror_mode": {
    "name": "ipython",
    "version": 3
   },
   "file_extension": ".py",
   "mimetype": "text/x-python",
   "name": "python",
   "nbconvert_exporter": "python",
   "pygments_lexer": "ipython3",
   "version": "3.7.1"
  }
 },
 "nbformat": 4,
 "nbformat_minor": 2
}
