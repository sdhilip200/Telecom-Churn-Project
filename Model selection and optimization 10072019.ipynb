{
 "cells": [
  {
   "cell_type": "code",
   "execution_count": 1,
   "metadata": {},
   "outputs": [
    {
     "data": {
      "text/html": [
       "<style>.container { width:100% !important; }</style>"
      ],
      "text/plain": [
       "<IPython.core.display.HTML object>"
      ]
     },
     "metadata": {},
     "output_type": "display_data"
    }
   ],
   "source": [
    "# Increasing jupyter notebook width sizes\n",
    "\n",
    "from IPython.core.display import display, HTML\n",
    "display(HTML(\"<style>.container { width:100% !important; }</style>\"))"
   ]
  },
  {
   "cell_type": "code",
   "execution_count": 137,
   "metadata": {},
   "outputs": [],
   "source": [
    "# Import necessary python libraries\n",
    "\n",
    "import pandas as pd\n",
    "import numpy as np\n",
    "# importing pandas profile\n",
    "import pandas_profiling\n",
    "import scipy.stats as stats\n",
    "import matplotlib.pyplot as plt\n",
    "import seaborn as sns\n",
    "%matplotlib inline\n",
    "sns.set(style = \"ticks\")\n",
    "from pylab import rcParams\n",
    "rcParams['figure.figsize'] = 15,10  # rcParams for plot rendering attributes\n",
    "rcParams['font.size'] = 15\n",
    "rcParams['axes.facecolor'] = 'white' # plott \n",
    "import matplotlib as mpl\n",
    "mpl.rc('lines', linewidth=5, color='r')# Reference: https://matplotlib.org/api/matplotlib_configuration_api.html#matplotlib.rcParams"
   ]
  },
  {
   "cell_type": "code",
   "execution_count": 6,
   "metadata": {},
   "outputs": [],
   "source": [
    "# Reading file\n",
    "\n",
    "churn = pd.read_csv(\"Feature_Engg_before_scaling.csv\")"
   ]
  },
  {
   "cell_type": "code",
   "execution_count": 8,
   "metadata": {},
   "outputs": [
    {
     "data": {
      "text/plain": [
       "(4617, 14)"
      ]
     },
     "execution_count": 8,
     "metadata": {},
     "output_type": "execute_result"
    }
   ],
   "source": [
    "churn.shape"
   ]
  },
  {
   "cell_type": "code",
   "execution_count": 108,
   "metadata": {},
   "outputs": [
    {
     "data": {
      "text/plain": [
       "Index(['Account_Length', 'Vmail_Message', 'Day_Mins', 'Day_Calls', 'Eve_Mins',\n",
       "       'Eve_Calls', 'Night_Mins', 'Night_Calls', 'International_Mins',\n",
       "       'International_Calls', 'CustServ_Calls', 'VMail_Plan_ yes',\n",
       "       'International_plan_ yes', 'Churn_ True.'],\n",
       "      dtype='object')"
      ]
     },
     "execution_count": 108,
     "metadata": {},
     "output_type": "execute_result"
    }
   ],
   "source": [
    "churn.columns"
   ]
  },
  {
   "cell_type": "markdown",
   "metadata": {},
   "source": [
    "# Separating dependent and independent variables\n",
    "\n"
   ]
  },
  {
   "cell_type": "code",
   "execution_count": 9,
   "metadata": {},
   "outputs": [],
   "source": [
    "# separating our independent and dependent variable\n",
    "X = churn.drop(['Churn_ True.'], axis = 1)\n",
    "y = churn['Churn_ True.']"
   ]
  },
  {
   "cell_type": "markdown",
   "metadata": {},
   "source": [
    "# Splitting the training data"
   ]
  },
  {
   "cell_type": "markdown",
   "metadata": {},
   "source": [
    "X_train and y_train first used to train the algorithm.\n",
    "then, X_test is used in that trained algorithms to predict outcomes.\n",
    "Once we get the outcomes, we compare it with y_test\n",
    "By comparing the outcome of the model with y_test, we can determine whether our algorithms are performing well or not. As we compare we use confusion matrix and accuracy to determine different aspects of model performance."
   ]
  },
  {
   "cell_type": "code",
   "execution_count": 10,
   "metadata": {},
   "outputs": [],
   "source": [
    "from sklearn.model_selection import train_test_split\n",
    "X_train, X_test, y_train, y_test = train_test_split(X, y,test_size = .20, random_state = 42)"
   ]
  },
  {
   "cell_type": "markdown",
   "metadata": {},
   "source": [
    "# Feature Scaling"
   ]
  },
  {
   "cell_type": "code",
   "execution_count": 11,
   "metadata": {},
   "outputs": [
    {
     "data": {
      "text/html": [
       "<div>\n",
       "<style scoped>\n",
       "    .dataframe tbody tr th:only-of-type {\n",
       "        vertical-align: middle;\n",
       "    }\n",
       "\n",
       "    .dataframe tbody tr th {\n",
       "        vertical-align: top;\n",
       "    }\n",
       "\n",
       "    .dataframe thead th {\n",
       "        text-align: right;\n",
       "    }\n",
       "</style>\n",
       "<table border=\"1\" class=\"dataframe\">\n",
       "  <thead>\n",
       "    <tr style=\"text-align: right;\">\n",
       "      <th></th>\n",
       "      <th>Account_Length</th>\n",
       "      <th>Vmail_Message</th>\n",
       "      <th>Day_Mins</th>\n",
       "      <th>Day_Calls</th>\n",
       "      <th>Eve_Mins</th>\n",
       "      <th>Eve_Calls</th>\n",
       "      <th>Night_Mins</th>\n",
       "      <th>Night_Calls</th>\n",
       "      <th>International_Mins</th>\n",
       "      <th>International_Calls</th>\n",
       "      <th>CustServ_Calls</th>\n",
       "      <th>VMail_Plan_ yes</th>\n",
       "      <th>International_plan_ yes</th>\n",
       "    </tr>\n",
       "  </thead>\n",
       "  <tbody>\n",
       "    <tr>\n",
       "      <th>3189</th>\n",
       "      <td>76</td>\n",
       "      <td>0</td>\n",
       "      <td>246.8</td>\n",
       "      <td>110</td>\n",
       "      <td>206.3</td>\n",
       "      <td>63</td>\n",
       "      <td>208.4</td>\n",
       "      <td>123</td>\n",
       "      <td>13.2</td>\n",
       "      <td>5</td>\n",
       "      <td>0</td>\n",
       "      <td>0</td>\n",
       "      <td>1</td>\n",
       "    </tr>\n",
       "    <tr>\n",
       "      <th>2646</th>\n",
       "      <td>101</td>\n",
       "      <td>0</td>\n",
       "      <td>232.7</td>\n",
       "      <td>114</td>\n",
       "      <td>186.4</td>\n",
       "      <td>123</td>\n",
       "      <td>153.3</td>\n",
       "      <td>122</td>\n",
       "      <td>11.5</td>\n",
       "      <td>6</td>\n",
       "      <td>5</td>\n",
       "      <td>0</td>\n",
       "      <td>0</td>\n",
       "    </tr>\n",
       "    <tr>\n",
       "      <th>506</th>\n",
       "      <td>136</td>\n",
       "      <td>31</td>\n",
       "      <td>143.1</td>\n",
       "      <td>88</td>\n",
       "      <td>236.6</td>\n",
       "      <td>65</td>\n",
       "      <td>227.8</td>\n",
       "      <td>120</td>\n",
       "      <td>11.4</td>\n",
       "      <td>5</td>\n",
       "      <td>2</td>\n",
       "      <td>1</td>\n",
       "      <td>0</td>\n",
       "    </tr>\n",
       "    <tr>\n",
       "      <th>393</th>\n",
       "      <td>112</td>\n",
       "      <td>0</td>\n",
       "      <td>217.1</td>\n",
       "      <td>76</td>\n",
       "      <td>205.2</td>\n",
       "      <td>100</td>\n",
       "      <td>185.7</td>\n",
       "      <td>91</td>\n",
       "      <td>9.4</td>\n",
       "      <td>3</td>\n",
       "      <td>2</td>\n",
       "      <td>0</td>\n",
       "      <td>0</td>\n",
       "    </tr>\n",
       "    <tr>\n",
       "      <th>1183</th>\n",
       "      <td>154</td>\n",
       "      <td>32</td>\n",
       "      <td>192.3</td>\n",
       "      <td>82</td>\n",
       "      <td>165.3</td>\n",
       "      <td>134</td>\n",
       "      <td>205.0</td>\n",
       "      <td>74</td>\n",
       "      <td>9.0</td>\n",
       "      <td>1</td>\n",
       "      <td>2</td>\n",
       "      <td>1</td>\n",
       "      <td>0</td>\n",
       "    </tr>\n",
       "  </tbody>\n",
       "</table>\n",
       "</div>"
      ],
      "text/plain": [
       "      Account_Length  Vmail_Message  Day_Mins  Day_Calls  Eve_Mins  Eve_Calls  \\\n",
       "3189              76              0     246.8        110     206.3         63   \n",
       "2646             101              0     232.7        114     186.4        123   \n",
       "506              136             31     143.1         88     236.6         65   \n",
       "393              112              0     217.1         76     205.2        100   \n",
       "1183             154             32     192.3         82     165.3        134   \n",
       "\n",
       "      Night_Mins  Night_Calls  International_Mins  International_Calls  \\\n",
       "3189       208.4          123                13.2                    5   \n",
       "2646       153.3          122                11.5                    6   \n",
       "506        227.8          120                11.4                    5   \n",
       "393        185.7           91                 9.4                    3   \n",
       "1183       205.0           74                 9.0                    1   \n",
       "\n",
       "      CustServ_Calls  VMail_Plan_ yes  International_plan_ yes  \n",
       "3189               0                0                        1  \n",
       "2646               5                0                        0  \n",
       "506                2                1                        0  \n",
       "393                2                0                        0  \n",
       "1183               2                1                        0  "
      ]
     },
     "execution_count": 11,
     "metadata": {},
     "output_type": "execute_result"
    }
   ],
   "source": [
    "headers = X_train.columns \n",
    "\n",
    "X_train.head()"
   ]
  },
  {
   "cell_type": "code",
   "execution_count": 12,
   "metadata": {},
   "outputs": [],
   "source": [
    "## We will be using standardscaler to transform\n",
    "from sklearn.preprocessing import StandardScaler\n",
    "sc = StandardScaler()\n",
    "\n",
    "## transforming \"train_x\"\n",
    "X_train = sc.fit_transform(X_train)\n",
    "\n",
    "## transforming \"test_x\"\n",
    "X_test = sc.transform(X_test)"
   ]
  },
  {
   "cell_type": "code",
   "execution_count": null,
   "metadata": {},
   "outputs": [],
   "source": [
    "# Saving the file"
   ]
  },
  {
   "cell_type": "markdown",
   "metadata": {},
   "source": [
    "Our dataset is an imblanced as 85% of customer's churn rate is False. An algoritnm that always predicts that False and achieve good accuracy. We need to make balance one for avoiding biased result. Applying SMOTE Technique."
   ]
  },
  {
   "cell_type": "code",
   "execution_count": 17,
   "metadata": {},
   "outputs": [],
   "source": [
    "# Getting imblearn library for applying SMOTE\n",
    "\n",
    "from imblearn.over_sampling import SMOTE\n",
    "smote = SMOTE()\n",
    "X_train_smote, y_train_smote = smote.fit_sample(X_train,y_train)"
   ]
  },
  {
   "cell_type": "code",
   "execution_count": 18,
   "metadata": {},
   "outputs": [
    {
     "name": "stdout",
     "output_type": "stream",
     "text": [
      "Counter({0: 3162, 1: 531})\n"
     ]
    }
   ],
   "source": [
    "# Checking the counts\n",
    "from collections import Counter\n",
    "print(Counter(y_train))"
   ]
  },
  {
   "cell_type": "code",
   "execution_count": 19,
   "metadata": {},
   "outputs": [
    {
     "name": "stdout",
     "output_type": "stream",
     "text": [
      "Counter({1: 3162, 0: 3162})\n"
     ]
    }
   ],
   "source": [
    "# Checking the counts after SMOTE\n",
    "print(Counter(y_train_smote))"
   ]
  },
  {
   "cell_type": "markdown",
   "metadata": {},
   "source": [
    "# Model\n",
    " "
   ]
  },
  {
   "cell_type": "markdown",
   "metadata": {},
   "source": [
    "### Logistic Regression"
   ]
  },
  {
   "cell_type": "code",
   "execution_count": 111,
   "metadata": {},
   "outputs": [],
   "source": [
    "# Import model libraries\n",
    "from sklearn.model_selection import train_test_split\n",
    "from sklearn.preprocessing import StandardScaler, LabelEncoder\n",
    "from sklearn.metrics import confusion_matrix, classification_report, accuracy_score, recall_score, precision_score, roc_curve, roc_auc_score\n",
    "from sklearn.metrics import accuracy_score\n",
    "from sklearn.linear_model import LogisticRegression\n",
    "from sklearn.naive_bayes import GaussianNB\n",
    "from sklearn.svm import SVC\n",
    "from sklearn.tree import DecisionTreeClassifier\n",
    "from sklearn.ensemble import RandomForestClassifier\n",
    "from sklearn.neighbors import KNeighborsClassifier\n",
    "from sklearn.ensemble import GradientBoostingClassifier\n",
    "from sklearn.linear_model import SGDClassifier\n",
    "from xgboost import XGBClassifier\n",
    "from xgboost import plot_importance\n",
    "import warnings\n",
    "warnings.filterwarnings(action='ignore')\n"
   ]
  },
  {
   "cell_type": "code",
   "execution_count": 112,
   "metadata": {},
   "outputs": [],
   "source": [
    "## fit the model with \"X_train\" and \"y_train\"\n",
    "## Once the model is trained we want to find out how well the model is performing, so we test the model. \n",
    "## we use \"X_test\" portion of the data (this data was not used to fit the model) to predict model outcome. \n",
    "## Once predicted we save that outcome in \"pred\" variable.\n",
    "## Then we compare the predicted value( \"pred\") and actual value(\"y_test\") to see how well our model is performing. "
   ]
  },
  {
   "cell_type": "code",
   "execution_count": 113,
   "metadata": {},
   "outputs": [],
   "source": [
    "lr = LogisticRegression(random_state = 42)\n",
    "lr.fit(X_train_smote, y_train_smote)\n",
    "lpredict = lr.predict(X_test)\n"
   ]
  },
  {
   "cell_type": "code",
   "execution_count": 114,
   "metadata": {},
   "outputs": [
    {
     "name": "stdout",
     "output_type": "stream",
     "text": [
      "              precision    recall  f1-score   support\n",
      "\n",
      "           0       0.96      0.74      0.83       799\n",
      "           1       0.32      0.78      0.45       125\n",
      "\n",
      "    accuracy                           0.74       924\n",
      "   macro avg       0.64      0.76      0.64       924\n",
      "weighted avg       0.87      0.74      0.78       924\n",
      "\n",
      "[[588 211]\n",
      " [ 27  98]]\n",
      "Accuracy: 74.24\n"
     ]
    }
   ],
   "source": [
    "# Printing the accuracy score\n",
    "print(classification_report(y_test, lpredict))\n",
    "print(confusion_matrix(y_test, lpredict))\n",
    "l = round(accuracy_score(y_true = y_test, y_pred = lpredict) * 100, 2)\n",
    "print(\"Accuracy:\", l)"
   ]
  },
  {
   "cell_type": "markdown",
   "metadata": {},
   "source": [
    "### Decision Tree"
   ]
  },
  {
   "cell_type": "code",
   "execution_count": 115,
   "metadata": {},
   "outputs": [],
   "source": [
    "decisiontree = DecisionTreeClassifier(criterion='entropy', random_state = 42)\n",
    "decisiontree.fit(X_train_smote, y_train_smote)\n",
    "dpredict = decisiontree.predict(X_test)\n"
   ]
  },
  {
   "cell_type": "code",
   "execution_count": 116,
   "metadata": {},
   "outputs": [
    {
     "name": "stdout",
     "output_type": "stream",
     "text": [
      "              precision    recall  f1-score   support\n",
      "\n",
      "           0       0.96      0.92      0.94       799\n",
      "           1       0.59      0.76      0.67       125\n",
      "\n",
      "    accuracy                           0.90       924\n",
      "   macro avg       0.78      0.84      0.80       924\n",
      "weighted avg       0.91      0.90      0.90       924\n",
      "\n",
      "[[734  65]\n",
      " [ 30  95]]\n",
      "Accuracy: 89.72\n"
     ]
    }
   ],
   "source": [
    "# Printing the accuracy score\n",
    "print(classification_report(y_test, dpredict))\n",
    "print(confusion_matrix(y_test, dpredict))\n",
    "d = round(accuracy_score(y_true = y_test, y_pred = dpredict) * 100, 2)\n",
    "print(\"Accuracy:\", d)"
   ]
  },
  {
   "cell_type": "markdown",
   "metadata": {},
   "source": [
    "### Random Forrest"
   ]
  },
  {
   "cell_type": "code",
   "execution_count": 117,
   "metadata": {},
   "outputs": [],
   "source": [
    "rf = RandomForestClassifier(random_state = 42, criterion='entropy')\n",
    "rf.fit(X_train_smote, y_train_smote)\n",
    "rpredict = rf.predict(X_test)"
   ]
  },
  {
   "cell_type": "code",
   "execution_count": 118,
   "metadata": {},
   "outputs": [
    {
     "name": "stdout",
     "output_type": "stream",
     "text": [
      "              precision    recall  f1-score   support\n",
      "\n",
      "           0       0.96      0.97      0.96       799\n",
      "           1       0.79      0.71      0.75       125\n",
      "\n",
      "    accuracy                           0.94       924\n",
      "   macro avg       0.88      0.84      0.86       924\n",
      "weighted avg       0.93      0.94      0.93       924\n",
      "\n",
      "[[776  23]\n",
      " [ 36  89]]\n",
      "Accuracy: 93.61\n"
     ]
    }
   ],
   "source": [
    "# Printing the accuracy score\n",
    "print(classification_report(y_test, rpredict))\n",
    "print(confusion_matrix(y_test, rpredict))\n",
    "r = round(accuracy_score(y_true = y_test, y_pred = rpredict) * 100, 2)\n",
    "print(\"Accuracy:\", r)"
   ]
  },
  {
   "cell_type": "markdown",
   "metadata": {},
   "source": [
    "### Naives Bayes"
   ]
  },
  {
   "cell_type": "code",
   "execution_count": 119,
   "metadata": {},
   "outputs": [],
   "source": [
    "nb = GaussianNB()\n",
    "nb.fit(X_train_smote, y_train_smote)\n",
    "nbpredict = nb.predict(X_test)"
   ]
  },
  {
   "cell_type": "code",
   "execution_count": 120,
   "metadata": {},
   "outputs": [
    {
     "name": "stdout",
     "output_type": "stream",
     "text": [
      "              precision    recall  f1-score   support\n",
      "\n",
      "           0       0.95      0.81      0.87       799\n",
      "           1       0.38      0.74      0.50       125\n",
      "\n",
      "    accuracy                           0.80       924\n",
      "   macro avg       0.66      0.77      0.69       924\n",
      "weighted avg       0.87      0.80      0.82       924\n",
      "\n",
      "[[646 153]\n",
      " [ 33  92]]\n",
      "Accuracy: 79.87\n"
     ]
    }
   ],
   "source": [
    "# Printing the accuracy score\n",
    "print(classification_report(y_test, nbpredict))\n",
    "print(confusion_matrix(y_test, nbpredict))\n",
    "n = round(accuracy_score(y_true = y_test, y_pred = nbpredict) * 100, 2)\n",
    "print(\"Accuracy:\", n)"
   ]
  },
  {
   "cell_type": "markdown",
   "metadata": {},
   "source": [
    "### Support Vector Machine"
   ]
  },
  {
   "cell_type": "code",
   "execution_count": 121,
   "metadata": {},
   "outputs": [],
   "source": [
    "svc = SVC(random_state = 42)\n",
    "svc.fit(X_train_smote, y_train_smote)\n",
    "spredict = svc.predict(X_test)"
   ]
  },
  {
   "cell_type": "code",
   "execution_count": 122,
   "metadata": {},
   "outputs": [
    {
     "name": "stdout",
     "output_type": "stream",
     "text": [
      "              precision    recall  f1-score   support\n",
      "\n",
      "           0       0.96      0.91      0.93       799\n",
      "           1       0.56      0.76      0.64       125\n",
      "\n",
      "    accuracy                           0.89       924\n",
      "   macro avg       0.76      0.83      0.79       924\n",
      "weighted avg       0.91      0.89      0.89       924\n",
      "\n",
      "[[724  75]\n",
      " [ 30  95]]\n",
      "Accuracy: 88.64\n"
     ]
    }
   ],
   "source": [
    "# Printing the accuracy score\n",
    "print(classification_report(y_test, spredict))\n",
    "print(confusion_matrix(y_test, spredict))\n",
    "s = round(accuracy_score(y_true = y_test, y_pred = spredict) * 100, 2)\n",
    "print(\"Accuracy:\", s)"
   ]
  },
  {
   "cell_type": "markdown",
   "metadata": {},
   "source": [
    "### K Nearest Neighbors"
   ]
  },
  {
   "cell_type": "code",
   "execution_count": 123,
   "metadata": {},
   "outputs": [],
   "source": [
    "knn = KNeighborsClassifier(n_neighbors = 5)\n",
    "knn.fit(X_train_smote, y_train_smote)\n",
    "kpredict = knn.predict(X_test)"
   ]
  },
  {
   "cell_type": "code",
   "execution_count": 124,
   "metadata": {},
   "outputs": [
    {
     "name": "stdout",
     "output_type": "stream",
     "text": [
      "              precision    recall  f1-score   support\n",
      "\n",
      "           0       0.95      0.80      0.87       799\n",
      "           1       0.36      0.74      0.49       125\n",
      "\n",
      "    accuracy                           0.79       924\n",
      "   macro avg       0.66      0.77      0.68       924\n",
      "weighted avg       0.87      0.79      0.82       924\n",
      "\n",
      "[[636 163]\n",
      " [ 32  93]]\n",
      "Accuracy: 78.9\n"
     ]
    }
   ],
   "source": [
    "# Printing the accuracy score\n",
    "print(classification_report(y_test, kpredict))\n",
    "print(confusion_matrix(y_test, kpredict))\n",
    "k = round(accuracy_score(y_true = y_test, y_pred = kpredict) * 100, 2)\n",
    "print(\"Accuracy:\", k)"
   ]
  },
  {
   "cell_type": "markdown",
   "metadata": {},
   "source": [
    "### Stochastic Gradient Boosting"
   ]
  },
  {
   "cell_type": "code",
   "execution_count": 125,
   "metadata": {},
   "outputs": [],
   "source": [
    "sgd = SGDClassifier(random_state = 42)\n",
    "sgd.fit(X_train_smote, y_train_smote)\n",
    "sgpredict = sgd.predict(X_test)"
   ]
  },
  {
   "cell_type": "code",
   "execution_count": 126,
   "metadata": {},
   "outputs": [
    {
     "name": "stdout",
     "output_type": "stream",
     "text": [
      "              precision    recall  f1-score   support\n",
      "\n",
      "           0       0.95      0.73      0.82       799\n",
      "           1       0.31      0.78      0.44       125\n",
      "\n",
      "    accuracy                           0.73       924\n",
      "   macro avg       0.63      0.75      0.63       924\n",
      "weighted avg       0.87      0.73      0.77       924\n",
      "\n",
      "[[580 219]\n",
      " [ 28  97]]\n",
      "Accuracy: 73.27\n"
     ]
    }
   ],
   "source": [
    "# Printing the accuracy score\n",
    "print(classification_report(y_test, sgpredict))\n",
    "print(confusion_matrix(y_test, sgpredict))\n",
    "sg = round(accuracy_score(y_true = y_test, y_pred = sgpredict) * 100, 2)\n",
    "print(\"Accuracy:\", sg)"
   ]
  },
  {
   "cell_type": "markdown",
   "metadata": {},
   "source": [
    "### Gradient Boosting Classifier"
   ]
  },
  {
   "cell_type": "code",
   "execution_count": 127,
   "metadata": {},
   "outputs": [],
   "source": [
    "gbk = GradientBoostingClassifier(random_state = 42)\n",
    "gbk.fit(X_train_smote, y_train_smote)\n",
    "gbpredict = gbk.predict(X_test)"
   ]
  },
  {
   "cell_type": "code",
   "execution_count": 128,
   "metadata": {},
   "outputs": [
    {
     "name": "stdout",
     "output_type": "stream",
     "text": [
      "              precision    recall  f1-score   support\n",
      "\n",
      "           0       0.97      0.95      0.96       799\n",
      "           1       0.72      0.81      0.76       125\n",
      "\n",
      "    accuracy                           0.93       924\n",
      "   macro avg       0.84      0.88      0.86       924\n",
      "weighted avg       0.94      0.93      0.93       924\n",
      "\n",
      "[[759  40]\n",
      " [ 24 101]]\n",
      "Accuracy: 93.07\n"
     ]
    }
   ],
   "source": [
    "# Printing the accuracy score\n",
    "print(classification_report(y_test, gbpredict))\n",
    "print(confusion_matrix(y_test, gbpredict))\n",
    "gb = round(accuracy_score(y_true = y_test, y_pred = gbpredict) * 100, 2)\n",
    "print(\"Accuracy:\", gb)"
   ]
  },
  {
   "cell_type": "markdown",
   "metadata": {},
   "source": [
    "### XG Booster"
   ]
  },
  {
   "cell_type": "code",
   "execution_count": 129,
   "metadata": {},
   "outputs": [],
   "source": [
    "xg = XGBClassifier(random_state = 42)\n",
    "xg.fit(X_train_smote, y_train_smote)\n",
    "xpredict = xg.predict(X_test)\n"
   ]
  },
  {
   "cell_type": "code",
   "execution_count": 130,
   "metadata": {},
   "outputs": [
    {
     "name": "stdout",
     "output_type": "stream",
     "text": [
      "              precision    recall  f1-score   support\n",
      "\n",
      "           0       0.97      0.94      0.96       799\n",
      "           1       0.69      0.80      0.74       125\n",
      "\n",
      "    accuracy                           0.93       924\n",
      "   macro avg       0.83      0.87      0.85       924\n",
      "weighted avg       0.93      0.93      0.93       924\n",
      "\n",
      "[[755  44]\n",
      " [ 25 100]]\n",
      "Accuracy: 92.53\n"
     ]
    }
   ],
   "source": [
    "# Printing the accuracy score\n",
    "print(classification_report(y_test, xpredict))\n",
    "print(confusion_matrix(y_test, xpredict))\n",
    "xgb = round(accuracy_score(y_true = y_test, y_pred = xpredict) * 100, 2)\n",
    "print(\"Accuracy:\", xgb)"
   ]
  },
  {
   "cell_type": "code",
   "execution_count": 131,
   "metadata": {},
   "outputs": [
    {
     "name": "stdout",
     "output_type": "stream",
     "text": [
      "Logistic Regression - Accuracy: 74.24\n",
      "XG Booster - Accuracy: 92.53\n",
      "Gradient Boosting Classifier - Accuracy: 93.07\n",
      "Random Forest - Accuracy: 93.61\n",
      "Decision Tree - Accuracy: 89.72\n",
      "KNN - Accuracy: 78.9\n",
      "Support Vector Machines - Accuracy: 88.64\n",
      "Naive Bayes - Accuracy: 79.87\n",
      "Stochastic Gradient Descent - Accuracy: 73.27\n"
     ]
    }
   ],
   "source": [
    "print(\"Logistic Regression - Accuracy:\", l)\n",
    "print(\"XG Booster - Accuracy:\", xgb)\n",
    "print(\"Gradient Boosting Classifier - Accuracy:\", gb)\n",
    "print(\"Random Forest - Accuracy:\", r)\n",
    "print(\"Decision Tree - Accuracy:\", d)\n",
    "print(\"KNN - Accuracy:\", k)\n",
    "print(\"Support Vector Machines - Accuracy:\", s)\n",
    "print(\"Naive Bayes - Accuracy:\", n)\n",
    "print(\"Stochastic Gradient Descent - Accuracy:\", sg)"
   ]
  },
  {
   "cell_type": "markdown",
   "metadata": {},
   "source": [
    "Random Forest came as a best model among all the models followed by Gradient Boosting. Tuning the Random Forest model."
   ]
  },
  {
   "cell_type": "markdown",
   "metadata": {},
   "source": [
    "# Cross Validation"
   ]
  },
  {
   "cell_type": "code",
   "execution_count": 132,
   "metadata": {},
   "outputs": [
    {
     "name": "stdout",
     "output_type": "stream",
     "text": [
      "[0.93965517 0.96536797 0.93939394 0.92640693 0.93073593 0.93073593\n",
      " 0.95238095 0.95670996 0.95238095 0.94805195 0.92640693 0.93073593\n",
      " 0.93506494 0.96103896 0.96103896 0.93506494 0.94347826 0.93913043\n",
      " 0.94347826 0.95217391]\n",
      "0.9434715596747081\n"
     ]
    }
   ],
   "source": [
    "from sklearn.model_selection import cross_val_score\n",
    "scores = cross_val_score(rf, X, y, cv = 20, scoring = 'accuracy')\n",
    "print(scores)\n",
    "print(scores.mean())"
   ]
  },
  {
   "cell_type": "markdown",
   "metadata": {},
   "source": [
    "# Hyperparameter Tuning"
   ]
  },
  {
   "cell_type": "code",
   "execution_count": 104,
   "metadata": {},
   "outputs": [
    {
     "data": {
      "text/plain": [
       "RandomizedSearchCV(cv='warn', error_score='raise-deprecating',\n",
       "                   estimator=RandomForestClassifier(bootstrap=True,\n",
       "                                                    class_weight=None,\n",
       "                                                    criterion='gini',\n",
       "                                                    max_depth=None,\n",
       "                                                    max_features='auto',\n",
       "                                                    max_leaf_nodes=None,\n",
       "                                                    min_impurity_decrease=0.0,\n",
       "                                                    min_impurity_split=None,\n",
       "                                                    min_samples_leaf=1,\n",
       "                                                    min_samples_split=2,\n",
       "                                                    min_weight_fraction_leaf=0.0,\n",
       "                                                    n_estimators='warn',\n",
       "                                                    n_jobs=None,\n",
       "                                                    o...\n",
       "       131, 132, 133, 134, 135, 136, 137, 138, 139, 140, 141, 142, 143,\n",
       "       144, 145, 146, 147, 148, 149, 150, 151, 152, 153, 154, 155, 156,\n",
       "       157, 158, 159, 160, 161, 162, 163, 164, 165, 166, 167, 168, 169,\n",
       "       170, 171, 172, 173, 174, 175, 176, 177, 178, 179, 180, 181, 182,\n",
       "       183, 184, 185, 186, 187, 188, 189, 190, 191, 192, 193, 194, 195,\n",
       "       196, 197, 198, 199])},\n",
       "                   pre_dispatch='2*n_jobs', random_state=None, refit=True,\n",
       "                   return_train_score=False, scoring=None, verbose=0)"
      ]
     },
     "execution_count": 104,
     "metadata": {},
     "output_type": "execute_result"
    }
   ],
   "source": [
    "from sklearn.model_selection import GridSearchCV,RandomizedSearchCV\n",
    "\n",
    "params= {'n_estimators':np.arange(1,200),\n",
    "         'random_state': np.arange(1,200),\n",
    "         'criterion': ['entropy','gini'],\n",
    "          'max_features':['auto','sqrt','log2'],\n",
    "         'bootstrap':[True, False]\n",
    "          }\n",
    "model = RandomizedSearchCV(RandomForestClassifier(),params)\n",
    "model.fit(X_train_smote, y_train_smote)\n"
   ]
  },
  {
   "cell_type": "code",
   "execution_count": 105,
   "metadata": {},
   "outputs": [
    {
     "data": {
      "text/plain": [
       "0.9623655913978495"
      ]
     },
     "execution_count": 105,
     "metadata": {},
     "output_type": "execute_result"
    }
   ],
   "source": [
    "model.best_score_"
   ]
  },
  {
   "cell_type": "code",
   "execution_count": 106,
   "metadata": {},
   "outputs": [
    {
     "data": {
      "text/plain": [
       "{'random_state': 56,\n",
       " 'n_estimators': 120,\n",
       " 'max_features': 'auto',\n",
       " 'criterion': 'entropy',\n",
       " 'bootstrap': False}"
      ]
     },
     "execution_count": 106,
     "metadata": {},
     "output_type": "execute_result"
    }
   ],
   "source": [
    "model.best_params_"
   ]
  },
  {
   "cell_type": "code",
   "execution_count": 107,
   "metadata": {},
   "outputs": [
    {
     "data": {
      "text/plain": [
       "RandomForestClassifier(bootstrap=False, class_weight=None, criterion='entropy',\n",
       "                       max_depth=None, max_features='auto', max_leaf_nodes=None,\n",
       "                       min_impurity_decrease=0.0, min_impurity_split=None,\n",
       "                       min_samples_leaf=1, min_samples_split=2,\n",
       "                       min_weight_fraction_leaf=0.0, n_estimators=120,\n",
       "                       n_jobs=None, oob_score=False, random_state=56, verbose=0,\n",
       "                       warm_start=False)"
      ]
     },
     "execution_count": 107,
     "metadata": {},
     "output_type": "execute_result"
    }
   ],
   "source": [
    "model.best_estimator_"
   ]
  },
  {
   "cell_type": "code",
   "execution_count": 154,
   "metadata": {},
   "outputs": [],
   "source": [
    "# Checking ROC \n",
    "df = model.predict_proba(X_test)"
   ]
  },
  {
   "cell_type": "code",
   "execution_count": 155,
   "metadata": {},
   "outputs": [],
   "source": [
    "prob = pd.DataFrame(df)"
   ]
  },
  {
   "cell_type": "code",
   "execution_count": 157,
   "metadata": {},
   "outputs": [
    {
     "data": {
      "text/html": [
       "<div>\n",
       "<style scoped>\n",
       "    .dataframe tbody tr th:only-of-type {\n",
       "        vertical-align: middle;\n",
       "    }\n",
       "\n",
       "    .dataframe tbody tr th {\n",
       "        vertical-align: top;\n",
       "    }\n",
       "\n",
       "    .dataframe thead th {\n",
       "        text-align: right;\n",
       "    }\n",
       "</style>\n",
       "<table border=\"1\" class=\"dataframe\">\n",
       "  <thead>\n",
       "    <tr style=\"text-align: right;\">\n",
       "      <th></th>\n",
       "      <th>0</th>\n",
       "      <th>1</th>\n",
       "    </tr>\n",
       "  </thead>\n",
       "  <tbody>\n",
       "    <tr>\n",
       "      <th>0</th>\n",
       "      <td>0.975000</td>\n",
       "      <td>0.025000</td>\n",
       "    </tr>\n",
       "    <tr>\n",
       "      <th>1</th>\n",
       "      <td>0.958333</td>\n",
       "      <td>0.041667</td>\n",
       "    </tr>\n",
       "    <tr>\n",
       "      <th>2</th>\n",
       "      <td>0.983333</td>\n",
       "      <td>0.016667</td>\n",
       "    </tr>\n",
       "    <tr>\n",
       "      <th>3</th>\n",
       "      <td>0.983333</td>\n",
       "      <td>0.016667</td>\n",
       "    </tr>\n",
       "    <tr>\n",
       "      <th>4</th>\n",
       "      <td>0.608333</td>\n",
       "      <td>0.391667</td>\n",
       "    </tr>\n",
       "    <tr>\n",
       "      <th>5</th>\n",
       "      <td>0.883333</td>\n",
       "      <td>0.116667</td>\n",
       "    </tr>\n",
       "    <tr>\n",
       "      <th>6</th>\n",
       "      <td>1.000000</td>\n",
       "      <td>0.000000</td>\n",
       "    </tr>\n",
       "    <tr>\n",
       "      <th>7</th>\n",
       "      <td>0.300000</td>\n",
       "      <td>0.700000</td>\n",
       "    </tr>\n",
       "    <tr>\n",
       "      <th>8</th>\n",
       "      <td>0.983333</td>\n",
       "      <td>0.016667</td>\n",
       "    </tr>\n",
       "    <tr>\n",
       "      <th>9</th>\n",
       "      <td>0.900000</td>\n",
       "      <td>0.100000</td>\n",
       "    </tr>\n",
       "  </tbody>\n",
       "</table>\n",
       "</div>"
      ],
      "text/plain": [
       "          0         1\n",
       "0  0.975000  0.025000\n",
       "1  0.958333  0.041667\n",
       "2  0.983333  0.016667\n",
       "3  0.983333  0.016667\n",
       "4  0.608333  0.391667\n",
       "5  0.883333  0.116667\n",
       "6  1.000000  0.000000\n",
       "7  0.300000  0.700000\n",
       "8  0.983333  0.016667\n",
       "9  0.900000  0.100000"
      ]
     },
     "execution_count": 157,
     "metadata": {},
     "output_type": "execute_result"
    }
   ],
   "source": [
    "prob.head(10)"
   ]
  },
  {
   "cell_type": "code",
   "execution_count": 161,
   "metadata": {},
   "outputs": [],
   "source": [
    "# Finding the churn rates. We need to keep the second column as it describes the churn rate\n",
    "churnrate = prob.iloc[:,1]"
   ]
  },
  {
   "cell_type": "code",
   "execution_count": 162,
   "metadata": {},
   "outputs": [
    {
     "data": {
      "text/plain": [
       "0    0.025000\n",
       "1    0.041667\n",
       "2    0.016667\n",
       "3    0.016667\n",
       "4    0.391667\n",
       "5    0.116667\n",
       "6    0.000000\n",
       "7    0.700000\n",
       "8    0.016667\n",
       "9    0.100000\n",
       "Name: 1, dtype: float64"
      ]
     },
     "execution_count": 162,
     "metadata": {},
     "output_type": "execute_result"
    }
   ],
   "source": [
    "churnrate.head(10)"
   ]
  },
  {
   "cell_type": "code",
   "execution_count": 168,
   "metadata": {},
   "outputs": [],
   "source": [
    "fpr, tpr , thresholds = roc_curve(y_test,churnrate)"
   ]
  },
  {
   "cell_type": "code",
   "execution_count": 169,
   "metadata": {},
   "outputs": [
    {
     "data": {
      "image/png": "[encoded data removed]",
      "text/plain": [
       "<Figure size 1080x720 with 1 Axes>"
      ]
     },
     "metadata": {},
     "output_type": "display_data"
    }
   ],
   "source": [
    "plt.plot(fpr,tpr)\n",
    "plt.xlabel(\"False positive rate\")\n",
    "plt.title(\"ROC Curve\")\n",
    "plt.ylabel(\"True positive rate\")\n",
    "plt.plot([0,1],[0,1], \"-\")\n",
    "plt.show()"
   ]
  },
  {
   "cell_type": "code",
   "execution_count": 170,
   "metadata": {},
   "outputs": [],
   "source": [
    "auc_score = roc_auc_score(y_test, churnrate)"
   ]
  },
  {
   "cell_type": "code",
   "execution_count": 171,
   "metadata": {},
   "outputs": [
    {
     "data": {
      "text/plain": [
       "0.9257972465581977"
      ]
     },
     "execution_count": 171,
     "metadata": {},
     "output_type": "execute_result"
    }
   ],
   "source": [
    "auc_score"
   ]
  },
  {
   "cell_type": "markdown",
   "metadata": {},
   "source": [
    "# Our AUC score is 92% from the above model. "
   ]
  },
  {
   "cell_type": "markdown",
   "metadata": {},
   "source": [
    "# Feature vs Influence on model"
   ]
  },
  {
   "cell_type": "code",
   "execution_count": 191,
   "metadata": {},
   "outputs": [],
   "source": [
    "import pandas as pd\n",
    "feature_importances = pd.DataFrame(rf.feature_importances_,\n",
    "                                   index = X.columns,\n",
    "                                    columns=['importance']).sort_values('importance', ascending=False)"
   ]
  },
  {
   "cell_type": "code",
   "execution_count": 201,
   "metadata": {},
   "outputs": [
    {
     "data": {
      "text/html": [
       "<div>\n",
       "<style scoped>\n",
       "    .dataframe tbody tr th:only-of-type {\n",
       "        vertical-align: middle;\n",
       "    }\n",
       "\n",
       "    .dataframe tbody tr th {\n",
       "        vertical-align: top;\n",
       "    }\n",
       "\n",
       "    .dataframe thead th {\n",
       "        text-align: right;\n",
       "    }\n",
       "</style>\n",
       "<table border=\"1\" class=\"dataframe\">\n",
       "  <thead>\n",
       "    <tr style=\"text-align: right;\">\n",
       "      <th></th>\n",
       "      <th>importance</th>\n",
       "    </tr>\n",
       "  </thead>\n",
       "  <tbody>\n",
       "    <tr>\n",
       "      <th>Day_Mins</th>\n",
       "      <td>0.222555</td>\n",
       "    </tr>\n",
       "    <tr>\n",
       "      <th>CustServ_Calls</th>\n",
       "      <td>0.156814</td>\n",
       "    </tr>\n",
       "    <tr>\n",
       "      <th>International_Calls</th>\n",
       "      <td>0.091016</td>\n",
       "    </tr>\n",
       "    <tr>\n",
       "      <th>International_plan_ yes</th>\n",
       "      <td>0.086210</td>\n",
       "    </tr>\n",
       "    <tr>\n",
       "      <th>Eve_Mins</th>\n",
       "      <td>0.084615</td>\n",
       "    </tr>\n",
       "    <tr>\n",
       "      <th>International_Mins</th>\n",
       "      <td>0.068420</td>\n",
       "    </tr>\n",
       "    <tr>\n",
       "      <th>Night_Mins</th>\n",
       "      <td>0.058946</td>\n",
       "    </tr>\n",
       "    <tr>\n",
       "      <th>Account_Length</th>\n",
       "      <td>0.050267</td>\n",
       "    </tr>\n",
       "    <tr>\n",
       "      <th>Day_Calls</th>\n",
       "      <td>0.049742</td>\n",
       "    </tr>\n",
       "    <tr>\n",
       "      <th>Night_Calls</th>\n",
       "      <td>0.045623</td>\n",
       "    </tr>\n",
       "    <tr>\n",
       "      <th>Eve_Calls</th>\n",
       "      <td>0.042438</td>\n",
       "    </tr>\n",
       "    <tr>\n",
       "      <th>Vmail_Message</th>\n",
       "      <td>0.030449</td>\n",
       "    </tr>\n",
       "    <tr>\n",
       "      <th>VMail_Plan_ yes</th>\n",
       "      <td>0.012906</td>\n",
       "    </tr>\n",
       "  </tbody>\n",
       "</table>\n",
       "</div>"
      ],
      "text/plain": [
       "                         importance\n",
       "Day_Mins                   0.222555\n",
       "CustServ_Calls             0.156814\n",
       "International_Calls        0.091016\n",
       "International_plan_ yes    0.086210\n",
       "Eve_Mins                   0.084615\n",
       "International_Mins         0.068420\n",
       "Night_Mins                 0.058946\n",
       "Account_Length             0.050267\n",
       "Day_Calls                  0.049742\n",
       "Night_Calls                0.045623\n",
       "Eve_Calls                  0.042438\n",
       "Vmail_Message              0.030449\n",
       "VMail_Plan_ yes            0.012906"
      ]
     },
     "execution_count": 201,
     "metadata": {},
     "output_type": "execute_result"
    }
   ],
   "source": [
    "feature_importances"
   ]
  },
  {
   "cell_type": "code",
   "execution_count": 226,
   "metadata": {},
   "outputs": [
    {
     "data": {
      "text/plain": [
       "Text(0.5, 1.0, 'Feature Importances')"
      ]
     },
     "execution_count": 226,
     "metadata": {},
     "output_type": "execute_result"
    },
    {
     "data": {
      "image/png": "[encoded data removed]",
      "text/plain": [
       "<Figure size 1080x720 with 1 Axes>"
      ]
     },
     "metadata": {},
     "output_type": "display_data"
    }
   ],
   "source": [
    "feature_importances.sort_values('importance', ascending=False).plot(kind = 'bar')\n",
    "plt.title (\"Feature Importances\")"
   ]
  },
  {
   "cell_type": "code",
   "execution_count": 174,
   "metadata": {},
   "outputs": [],
   "source": [
    "from sklearn.externals import joblib"
   ]
  },
  {
   "cell_type": "code",
   "execution_count": 176,
   "metadata": {},
   "outputs": [
    {
     "data": {
      "text/plain": [
       "['Telcomchurn.ml']"
      ]
     },
     "execution_count": 176,
     "metadata": {},
     "output_type": "execute_result"
    }
   ],
   "source": [
    "# Dump the Model\n",
    "joblib.dump(model,'Telcomchurn.ml')"
   ]
  },
  {
   "cell_type": "code",
   "execution_count": null,
   "metadata": {},
   "outputs": [],
   "source": []
  }
 ],
 "metadata": {
  "kernelspec": {
   "display_name": "Python 3",
   "language": "python",
   "name": "python3"
  },
  "language_info": {
   "codemirror_mode": {
    "name": "ipython",
    "version": 3
   },
   "file_extension": ".py",
   "mimetype": "text/x-python",
   "name": "python",
   "nbconvert_exporter": "python",
   "pygments_lexer": "ipython3",
   "version": "3.7.3"
  }
 },
 "nbformat": 4,
 "nbformat_minor": 2
}
